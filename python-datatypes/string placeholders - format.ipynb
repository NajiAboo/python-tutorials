{
 "cells": [
  {
   "cell_type": "markdown",
   "id": "5e55153a",
   "metadata": {},
   "source": [
    "### The format() method formats the specified value(s) and insert them inside the string's placeholder"
   ]
  },
  {
   "cell_type": "code",
   "execution_count": 7,
   "id": "0ccf51cd",
   "metadata": {},
   "outputs": [
    {
     "name": "stdout",
     "output_type": "stream",
     "text": [
      "Enter your name: Jack\n"
     ]
    }
   ],
   "source": [
    "input_name = input(\"Enter your name: \")"
   ]
  },
  {
   "cell_type": "code",
   "execution_count": 8,
   "id": "46054788",
   "metadata": {},
   "outputs": [
    {
     "name": "stdout",
     "output_type": "stream",
     "text": [
      "Enter your age19\n"
     ]
    }
   ],
   "source": [
    "input_age = input(\"Enter your age\")"
   ]
  },
  {
   "cell_type": "code",
   "execution_count": null,
   "id": "1ffed316",
   "metadata": {},
   "outputs": [],
   "source": [
    "\"Hello Jack. Your age is 19\""
   ]
  },
  {
   "cell_type": "code",
   "execution_count": 10,
   "id": "568e5fba",
   "metadata": {},
   "outputs": [
    {
     "data": {
      "text/plain": [
       "'Hello Jack. Your age is 19'"
      ]
     },
     "execution_count": 10,
     "metadata": {},
     "output_type": "execute_result"
    }
   ],
   "source": [
    "\"Hello {name}. Your age is {age}\".format(name=input_name, age=input_age)"
   ]
  },
  {
   "cell_type": "code",
   "execution_count": 11,
   "id": "8fa58247",
   "metadata": {},
   "outputs": [
    {
     "data": {
      "text/plain": [
       "'Hello Jack. Your age is 19'"
      ]
     },
     "execution_count": 11,
     "metadata": {},
     "output_type": "execute_result"
    }
   ],
   "source": [
    "\"Hello {0}. Your age is {1}\".format(input_name,input_age)"
   ]
  },
  {
   "cell_type": "code",
   "execution_count": 12,
   "id": "46eeca0c",
   "metadata": {},
   "outputs": [
    {
     "data": {
      "text/plain": [
       "'Hello Jack. Your age is 19'"
      ]
     },
     "execution_count": 12,
     "metadata": {},
     "output_type": "execute_result"
    }
   ],
   "source": [
    "\"Hello {}. Your age is {}\".format(input_name, input_age)"
   ]
  },
  {
   "cell_type": "code",
   "execution_count": 13,
   "id": "ca3f3f6c",
   "metadata": {},
   "outputs": [
    {
     "data": {
      "text/plain": [
       "'Hello Jack. Your age is 19'"
      ]
     },
     "execution_count": 13,
     "metadata": {},
     "output_type": "execute_result"
    }
   ],
   "source": [
    "f\"Hello {input_name}. Your age is {input_age}\""
   ]
  },
  {
   "cell_type": "code",
   "execution_count": null,
   "id": "f35b72f6",
   "metadata": {},
   "outputs": [],
   "source": []
  }
 ],
 "metadata": {
  "kernelspec": {
   "display_name": "Python 3 (ipykernel)",
   "language": "python",
   "name": "python3"
  },
  "language_info": {
   "codemirror_mode": {
    "name": "ipython",
    "version": 3
   },
   "file_extension": ".py",
   "mimetype": "text/x-python",
   "name": "python",
   "nbconvert_exporter": "python",
   "pygments_lexer": "ipython3",
   "version": "3.9.7"
  }
 },
 "nbformat": 4,
 "nbformat_minor": 5
}
