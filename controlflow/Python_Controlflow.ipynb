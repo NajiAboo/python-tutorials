{
  "nbformat": 4,
  "nbformat_minor": 0,
  "metadata": {
    "colab": {
      "provenance": []
    },
    "kernelspec": {
      "name": "python3",
      "display_name": "Python 3"
    },
    "language_info": {
      "name": "python"
    }
  },
  "cells": [
    {
      "cell_type": "code",
      "execution_count": null,
      "metadata": {
        "colab": {
          "base_uri": "https://localhost:8080/"
        },
        "id": "GeC146zYDyN9",
        "outputId": "86528d83-29e2-400c-80a0-18046b3b5c4d"
      },
      "outputs": [
        {
          "output_type": "stream",
          "name": "stdout",
          "text": [
            "connected\n"
          ]
        }
      ],
      "source": [
        "print(\"connected\")"
      ]
    },
    {
      "cell_type": "code",
      "source": [
        "age =  80"
      ],
      "metadata": {
        "id": "QnedUfEPFUJP"
      },
      "execution_count": null,
      "outputs": []
    },
    {
      "cell_type": "code",
      "source": [
        "if age > 70:\n",
        " print(\"He/She is a senior citizen\")\n",
        "\n",
        "print(\"This is final code\")"
      ],
      "metadata": {
        "colab": {
          "base_uri": "https://localhost:8080/"
        },
        "id": "D9sGMPo9FXFo",
        "outputId": "8b26f709-6566-4e30-e746-982c62cf54c6"
      },
      "execution_count": null,
      "outputs": [
        {
          "output_type": "stream",
          "name": "stdout",
          "text": [
            "He/She is a senior citizen\n",
            "This is final code\n"
          ]
        }
      ]
    },
    {
      "cell_type": "code",
      "source": [],
      "metadata": {
        "id": "3YrDwcfzF4gA"
      },
      "execution_count": null,
      "outputs": []
    },
    {
      "cell_type": "code",
      "source": [
        "age = 60"
      ],
      "metadata": {
        "id": "8XRaDggfF4iT"
      },
      "execution_count": null,
      "outputs": []
    },
    {
      "cell_type": "code",
      "source": [
        "if age> 70:\n",
        "  print(\"He/She is a senior citizen\")\n",
        "else:\n",
        "  print(\"He/She is not a senior citizen\")"
      ],
      "metadata": {
        "colab": {
          "base_uri": "https://localhost:8080/"
        },
        "id": "44AldGEyGPJ6",
        "outputId": "40a424a7-8231-44fc-cfd2-76051925896e"
      },
      "execution_count": null,
      "outputs": [
        {
          "output_type": "stream",
          "name": "stdout",
          "text": [
            "He/She is not a senior citizen\n"
          ]
        }
      ]
    },
    {
      "cell_type": "code",
      "source": [],
      "metadata": {
        "id": "MClDG3DrGhjx"
      },
      "execution_count": null,
      "outputs": []
    },
    {
      "cell_type": "code",
      "source": [
        "age = 10"
      ],
      "metadata": {
        "id": "HuFRke76G6zg"
      },
      "execution_count": null,
      "outputs": []
    },
    {
      "cell_type": "code",
      "source": [
        "if age>70:\n",
        "  print(\"He/She is a senior citizen\")\n",
        "elif age > 18:\n",
        "  print(\"He/She is major\")\n",
        "else:\n",
        "  print(\"He/She is minor\")\n"
      ],
      "metadata": {
        "colab": {
          "base_uri": "https://localhost:8080/"
        },
        "id": "6JJdlW0CG7tF",
        "outputId": "408a40ab-a334-4e6a-bf92-f2d85289d975"
      },
      "execution_count": null,
      "outputs": [
        {
          "output_type": "stream",
          "name": "stdout",
          "text": [
            "He/She is minor\n"
          ]
        }
      ]
    },
    {
      "cell_type": "code",
      "source": [],
      "metadata": {
        "id": "0vaAh57LG7vW"
      },
      "execution_count": null,
      "outputs": []
    }
  ]
}