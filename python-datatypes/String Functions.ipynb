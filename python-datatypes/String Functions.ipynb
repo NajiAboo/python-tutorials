{
 "cells": [
  {
   "cell_type": "code",
   "execution_count": 2,
   "id": "5d8898ba",
   "metadata": {},
   "outputs": [
    {
     "data": {
      "text/plain": [
       "['__add__',\n",
       " '__class__',\n",
       " '__contains__',\n",
       " '__delattr__',\n",
       " '__dir__',\n",
       " '__doc__',\n",
       " '__eq__',\n",
       " '__format__',\n",
       " '__ge__',\n",
       " '__getattribute__',\n",
       " '__getitem__',\n",
       " '__getnewargs__',\n",
       " '__gt__',\n",
       " '__hash__',\n",
       " '__init__',\n",
       " '__init_subclass__',\n",
       " '__iter__',\n",
       " '__le__',\n",
       " '__len__',\n",
       " '__lt__',\n",
       " '__mod__',\n",
       " '__mul__',\n",
       " '__ne__',\n",
       " '__new__',\n",
       " '__reduce__',\n",
       " '__reduce_ex__',\n",
       " '__repr__',\n",
       " '__rmod__',\n",
       " '__rmul__',\n",
       " '__setattr__',\n",
       " '__sizeof__',\n",
       " '__str__',\n",
       " '__subclasshook__',\n",
       " 'capitalize',\n",
       " 'casefold',\n",
       " 'center',\n",
       " 'count',\n",
       " 'encode',\n",
       " 'endswith',\n",
       " 'expandtabs',\n",
       " 'find',\n",
       " 'format',\n",
       " 'format_map',\n",
       " 'index',\n",
       " 'isalnum',\n",
       " 'isalpha',\n",
       " 'isascii',\n",
       " 'isdecimal',\n",
       " 'isdigit',\n",
       " 'isidentifier',\n",
       " 'islower',\n",
       " 'isnumeric',\n",
       " 'isprintable',\n",
       " 'isspace',\n",
       " 'istitle',\n",
       " 'isupper',\n",
       " 'join',\n",
       " 'ljust',\n",
       " 'lower',\n",
       " 'lstrip',\n",
       " 'maketrans',\n",
       " 'partition',\n",
       " 'removeprefix',\n",
       " 'removesuffix',\n",
       " 'replace',\n",
       " 'rfind',\n",
       " 'rindex',\n",
       " 'rjust',\n",
       " 'rpartition',\n",
       " 'rsplit',\n",
       " 'rstrip',\n",
       " 'split',\n",
       " 'splitlines',\n",
       " 'startswith',\n",
       " 'strip',\n",
       " 'swapcase',\n",
       " 'title',\n",
       " 'translate',\n",
       " 'upper',\n",
       " 'zfill']"
      ]
     },
     "execution_count": 2,
     "metadata": {},
     "output_type": "execute_result"
    }
   ],
   "source": [
    "dir(name)"
   ]
  },
  {
   "cell_type": "code",
   "execution_count": null,
   "id": "b908f388",
   "metadata": {},
   "outputs": [],
   "source": []
  },
  {
   "cell_type": "markdown",
   "id": "66d3e095",
   "metadata": {},
   "source": [
    "### str.capitalize()\n",
    "#### Return a copy of the string with its first character capitalized and the rest lowercased."
   ]
  },
  {
   "cell_type": "code",
   "execution_count": 6,
   "id": "7a80ba55",
   "metadata": {},
   "outputs": [],
   "source": [
    "name =\"python\""
   ]
  },
  {
   "cell_type": "code",
   "execution_count": 7,
   "id": "3eb62dd4",
   "metadata": {},
   "outputs": [
    {
     "data": {
      "text/plain": [
       "'Python'"
      ]
     },
     "execution_count": 7,
     "metadata": {},
     "output_type": "execute_result"
    }
   ],
   "source": [
    "name.capitalize()"
   ]
  },
  {
   "cell_type": "code",
   "execution_count": 8,
   "id": "599a7511",
   "metadata": {},
   "outputs": [
    {
     "data": {
      "text/plain": [
       "'python'"
      ]
     },
     "execution_count": 8,
     "metadata": {},
     "output_type": "execute_result"
    }
   ],
   "source": [
    "name"
   ]
  },
  {
   "cell_type": "markdown",
   "id": "b7d52118",
   "metadata": {},
   "source": [
    "### str.lower()"
   ]
  },
  {
   "cell_type": "markdown",
   "id": "30d27290",
   "metadata": {},
   "source": [
    "#### Return a copy of the string with all the cased characters converted to lowercase."
   ]
  },
  {
   "cell_type": "code",
   "execution_count": 10,
   "id": "6fc34f4e",
   "metadata": {},
   "outputs": [],
   "source": [
    "name = \"PYTHON\""
   ]
  },
  {
   "cell_type": "code",
   "execution_count": 11,
   "id": "2cde8989",
   "metadata": {},
   "outputs": [
    {
     "data": {
      "text/plain": [
       "'python'"
      ]
     },
     "execution_count": 11,
     "metadata": {},
     "output_type": "execute_result"
    }
   ],
   "source": [
    "name.lower()"
   ]
  },
  {
   "cell_type": "code",
   "execution_count": 12,
   "id": "15ccb877",
   "metadata": {},
   "outputs": [
    {
     "data": {
      "text/plain": [
       "'PYTHON'"
      ]
     },
     "execution_count": 12,
     "metadata": {},
     "output_type": "execute_result"
    }
   ],
   "source": [
    "name"
   ]
  },
  {
   "cell_type": "markdown",
   "id": "e37fc0c9",
   "metadata": {},
   "source": [
    "### str.casefold()"
   ]
  },
  {
   "cell_type": "markdown",
   "id": "7213708a",
   "metadata": {},
   "source": [
    "#### Return a casefolded copy of the string. Casefolded strings may be used for caseless matching.\n"
   ]
  },
  {
   "cell_type": "code",
   "execution_count": 23,
   "id": "223d99e1",
   "metadata": {},
   "outputs": [],
   "source": [
    "#### s1 = 'ß'"
   ]
  },
  {
   "cell_type": "code",
   "execution_count": 18,
   "id": "3f53be78",
   "metadata": {},
   "outputs": [],
   "source": [
    "name = \"PyThON\""
   ]
  },
  {
   "cell_type": "code",
   "execution_count": 19,
   "id": "eba8c491",
   "metadata": {},
   "outputs": [
    {
     "data": {
      "text/plain": [
       "'python'"
      ]
     },
     "execution_count": 19,
     "metadata": {},
     "output_type": "execute_result"
    }
   ],
   "source": [
    "name.casefold()"
   ]
  },
  {
   "cell_type": "code",
   "execution_count": 20,
   "id": "04a75379",
   "metadata": {},
   "outputs": [],
   "source": [
    "s1 = 'ß'"
   ]
  },
  {
   "cell_type": "code",
   "execution_count": 25,
   "id": "ae5fe404",
   "metadata": {},
   "outputs": [],
   "source": [
    "s2 = 'ss'"
   ]
  },
  {
   "cell_type": "code",
   "execution_count": 28,
   "id": "cce05d90",
   "metadata": {},
   "outputs": [
    {
     "data": {
      "text/plain": [
       "True"
      ]
     },
     "execution_count": 28,
     "metadata": {},
     "output_type": "execute_result"
    }
   ],
   "source": [
    "s1.casefold()  == s2.lower()"
   ]
  },
  {
   "cell_type": "code",
   "execution_count": 29,
   "id": "6c55a439",
   "metadata": {},
   "outputs": [],
   "source": []
  },
  {
   "cell_type": "code",
   "execution_count": 21,
   "id": "60939caf",
   "metadata": {},
   "outputs": [
    {
     "data": {
      "text/plain": [
       "'ss'"
      ]
     },
     "execution_count": 21,
     "metadata": {},
     "output_type": "execute_result"
    }
   ],
   "source": [
    "s1.casefold()"
   ]
  },
  {
   "cell_type": "markdown",
   "id": "9947d74a",
   "metadata": {},
   "source": [
    "### str.center(width[, fillchar])"
   ]
  },
  {
   "cell_type": "markdown",
   "id": "b01197cf",
   "metadata": {},
   "source": [
    "#### Return centered in a string of length width. Padding is done using the specified fillchar (default is an ASCII space). The original string is returned if width is less than or equal to len(s)."
   ]
  },
  {
   "cell_type": "code",
   "execution_count": 30,
   "id": "1fc666d1",
   "metadata": {},
   "outputs": [],
   "source": [
    "name  =\"python\""
   ]
  },
  {
   "cell_type": "code",
   "execution_count": 34,
   "id": "7c07a58f",
   "metadata": {},
   "outputs": [
    {
     "data": {
      "text/plain": [
       "'python'"
      ]
     },
     "execution_count": 34,
     "metadata": {},
     "output_type": "execute_result"
    }
   ],
   "source": [
    "name.center(3,'*')"
   ]
  },
  {
   "cell_type": "markdown",
   "id": "894a1061",
   "metadata": {},
   "source": [
    "### str.count(sub[, start[, end]])"
   ]
  },
  {
   "cell_type": "markdown",
   "id": "620ead69",
   "metadata": {},
   "source": [
    "#### Return the number of non-overlapping occurrences of substring sub in the range [start, end]. Optional arguments start and end are interpreted as in slice notation."
   ]
  },
  {
   "cell_type": "code",
   "execution_count": 42,
   "id": "cb0196d2",
   "metadata": {},
   "outputs": [],
   "source": [
    "text = \"This is a python tutorial. Python is a dynamic language\""
   ]
  },
  {
   "cell_type": "code",
   "execution_count": 47,
   "id": "38965715",
   "metadata": {},
   "outputs": [
    {
     "data": {
      "text/plain": [
       "1"
      ]
     },
     "execution_count": 47,
     "metadata": {},
     "output_type": "execute_result"
    }
   ],
   "source": [
    "text.count(\"is\",4, 10)"
   ]
  },
  {
   "cell_type": "markdown",
   "id": "273972bf",
   "metadata": {},
   "source": [
    "str.encode(encoding='utf-8', errors='strict')"
   ]
  },
  {
   "cell_type": "markdown",
   "id": "9c3b0c2b",
   "metadata": {},
   "source": [
    "### str.endswith(suffix[, start[, end]])"
   ]
  },
  {
   "cell_type": "markdown",
   "id": "9bdd387b",
   "metadata": {},
   "source": [
    "#### Return True if the string ends with the specified suffix, otherwise return False. suffix can also be a tuple of suffixes to look for. With optional start, test beginning at that position. With optional end, stop comparing at that position."
   ]
  },
  {
   "cell_type": "code",
   "execution_count": 54,
   "id": "079b4df9",
   "metadata": {},
   "outputs": [
    {
     "data": {
      "text/plain": [
       "True"
      ]
     },
     "execution_count": 54,
     "metadata": {},
     "output_type": "execute_result"
    }
   ],
   "source": [
    "text.endswith('on',0,16)"
   ]
  },
  {
   "cell_type": "markdown",
   "id": "c8b2b054",
   "metadata": {},
   "source": [
    "### str.expandtabs(tabsize=8)"
   ]
  },
  {
   "cell_type": "code",
   "execution_count": 58,
   "id": "ebe1660e",
   "metadata": {},
   "outputs": [
    {
     "data": {
      "text/plain": [
       "'this is python training                 . detailed          '"
      ]
     },
     "execution_count": 58,
     "metadata": {},
     "output_type": "execute_result"
    }
   ],
   "source": [
    "'this is python training \\t. detailed \\t'.expandtabs(20)"
   ]
  },
  {
   "cell_type": "markdown",
   "id": "dbcb78c8",
   "metadata": {},
   "source": [
    "### str.find(sub[, start[, end]])"
   ]
  },
  {
   "cell_type": "markdown",
   "id": "348bd6e7",
   "metadata": {},
   "source": [
    "#### Return the lowest index in the string where substring sub is found within the slice s[start:end]. Optional arguments start and end are interpreted as in slice notation. Return -1 if sub is not found."
   ]
  },
  {
   "cell_type": "code",
   "execution_count": 63,
   "id": "4995e286",
   "metadata": {},
   "outputs": [
    {
     "data": {
      "text/plain": [
       "10"
      ]
     },
     "execution_count": 63,
     "metadata": {},
     "output_type": "execute_result"
    }
   ],
   "source": [
    "text.find('python')"
   ]
  },
  {
   "cell_type": "markdown",
   "id": "ac5796e6",
   "metadata": {},
   "source": [
    "#### The find() method should be used only if you need to know the position of sub. To check if sub is a substring or not, use the in operator:"
   ]
  },
  {
   "cell_type": "code",
   "execution_count": 65,
   "id": "d0114393",
   "metadata": {},
   "outputs": [
    {
     "data": {
      "text/plain": [
       "True"
      ]
     },
     "execution_count": 65,
     "metadata": {},
     "output_type": "execute_result"
    }
   ],
   "source": [
    "'py' in 'python'"
   ]
  },
  {
   "cell_type": "markdown",
   "id": "00837b53",
   "metadata": {},
   "source": [
    "### str.index(sub[, start[, end]])"
   ]
  },
  {
   "cell_type": "markdown",
   "id": "edaf29ee",
   "metadata": {},
   "source": [
    "#### Like find(), but raise ValueError when the substring is not found."
   ]
  },
  {
   "cell_type": "code",
   "execution_count": 69,
   "id": "d56938f0",
   "metadata": {},
   "outputs": [
    {
     "ename": "ValueError",
     "evalue": "substring not found",
     "output_type": "error",
     "traceback": [
      "\u001b[0;31m---------------------------------------------------------------------------\u001b[0m",
      "\u001b[0;31mValueError\u001b[0m                                Traceback (most recent call last)",
      "Input \u001b[0;32mIn [69]\u001b[0m, in \u001b[0;36m<module>\u001b[0;34m\u001b[0m\n\u001b[0;32m----> 1\u001b[0m \u001b[43mtext\u001b[49m\u001b[38;5;241;43m.\u001b[39;49m\u001b[43mindex\u001b[49m\u001b[43m(\u001b[49m\u001b[38;5;124;43m'\u001b[39;49m\u001b[38;5;124;43mPyThon\u001b[39;49m\u001b[38;5;124;43m'\u001b[39;49m\u001b[43m)\u001b[49m\n",
      "\u001b[0;31mValueError\u001b[0m: substring not found"
     ]
    }
   ],
   "source": [
    "text.index('PyThon')"
   ]
  },
  {
   "cell_type": "markdown",
   "id": "0796a8ae",
   "metadata": {},
   "source": [
    "### str.isalnum()"
   ]
  },
  {
   "cell_type": "markdown",
   "id": "5dd288b0",
   "metadata": {},
   "source": [
    "#### Return True if all characters in the string are alphanumeric and there is at least one character, False otherwise. "
   ]
  },
  {
   "cell_type": "code",
   "execution_count": 74,
   "id": "726b5cb9",
   "metadata": {},
   "outputs": [
    {
     "data": {
      "text/plain": [
       "True"
      ]
     },
     "execution_count": 74,
     "metadata": {},
     "output_type": "execute_result"
    }
   ],
   "source": [
    "'Python1'.isalnum()"
   ]
  },
  {
   "cell_type": "markdown",
   "id": "39abe042",
   "metadata": {},
   "source": [
    "### str.isalpha()"
   ]
  },
  {
   "cell_type": "code",
   "execution_count": 77,
   "id": "b3f61bce",
   "metadata": {},
   "outputs": [
    {
     "data": {
      "text/plain": [
       "False"
      ]
     },
     "execution_count": 77,
     "metadata": {},
     "output_type": "execute_result"
    }
   ],
   "source": [
    "'python1'.isalpha()"
   ]
  },
  {
   "cell_type": "markdown",
   "id": "891c0540",
   "metadata": {},
   "source": [
    "### str.isascii()"
   ]
  },
  {
   "cell_type": "markdown",
   "id": "330ea98b",
   "metadata": {},
   "source": [
    "#### Return True if the string is empty or all characters in the string are ASCII, False otherwise. ASCII characters have code points in the range U+0000-U+007F."
   ]
  },
  {
   "cell_type": "code",
   "execution_count": 80,
   "id": "c81e2505",
   "metadata": {},
   "outputs": [
    {
     "data": {
      "text/plain": [
       "True"
      ]
     },
     "execution_count": 80,
     "metadata": {},
     "output_type": "execute_result"
    }
   ],
   "source": [
    "''.isascii()"
   ]
  },
  {
   "cell_type": "code",
   "execution_count": 81,
   "id": "0e1bb5fd",
   "metadata": {},
   "outputs": [
    {
     "data": {
      "text/plain": [
       "True"
      ]
     },
     "execution_count": 81,
     "metadata": {},
     "output_type": "execute_result"
    }
   ],
   "source": [
    "'p'.isascii()"
   ]
  },
  {
   "cell_type": "code",
   "execution_count": 82,
   "id": "eba5163b",
   "metadata": {},
   "outputs": [
    {
     "data": {
      "text/plain": [
       "True"
      ]
     },
     "execution_count": 82,
     "metadata": {},
     "output_type": "execute_result"
    }
   ],
   "source": [
    "'007F'.isascii()"
   ]
  },
  {
   "cell_type": "markdown",
   "id": "950669e5",
   "metadata": {},
   "source": [
    "### str.isdecimal()"
   ]
  },
  {
   "cell_type": "markdown",
   "id": "4c3b187b",
   "metadata": {},
   "source": [
    "#### Return True if all characters in the string are decimal characters and there is at least one character, False otherwise.\n",
    "#### Decimal characters are those that can be used to form numbers in base 10, "
   ]
  },
  {
   "cell_type": "code",
   "execution_count": 85,
   "id": "49929b47",
   "metadata": {},
   "outputs": [
    {
     "data": {
      "text/plain": [
       "False"
      ]
     },
     "execution_count": 85,
     "metadata": {},
     "output_type": "execute_result"
    }
   ],
   "source": [
    "'a'.isdecimal()"
   ]
  },
  {
   "cell_type": "code",
   "execution_count": 87,
   "id": "07cbab84",
   "metadata": {},
   "outputs": [
    {
     "data": {
      "text/plain": [
       "False"
      ]
     },
     "execution_count": 87,
     "metadata": {},
     "output_type": "execute_result"
    }
   ],
   "source": [
    "'1a'.isdecimal()"
   ]
  },
  {
   "cell_type": "markdown",
   "id": "047387e0",
   "metadata": {},
   "source": [
    "#### str.isdigit()"
   ]
  },
  {
   "cell_type": "markdown",
   "id": "135d2fda",
   "metadata": {},
   "source": [
    "#### Return True if all characters in the string are digits and there is at least one character, False otherwise. Digits include decimal characters and digits that need special handling, such as the compatibility superscript digits"
   ]
  },
  {
   "cell_type": "code",
   "execution_count": 90,
   "id": "43cf28b8",
   "metadata": {},
   "outputs": [],
   "source": [
    "#### str.islower()"
   ]
  },
  {
   "cell_type": "code",
   "execution_count": 92,
   "id": "c9a1ad4c",
   "metadata": {},
   "outputs": [
    {
     "data": {
      "text/plain": [
       "False"
      ]
     },
     "execution_count": 92,
     "metadata": {},
     "output_type": "execute_result"
    }
   ],
   "source": [
    "'Adas'.islower()"
   ]
  },
  {
   "cell_type": "markdown",
   "id": "2e73a395",
   "metadata": {},
   "source": [
    "### str.isspace()"
   ]
  },
  {
   "cell_type": "code",
   "execution_count": 94,
   "id": "d57d37a3",
   "metadata": {},
   "outputs": [
    {
     "data": {
      "text/plain": [
       "False"
      ]
     },
     "execution_count": 94,
     "metadata": {},
     "output_type": "execute_result"
    }
   ],
   "source": [
    "\"This is \".isspace()"
   ]
  },
  {
   "cell_type": "markdown",
   "id": "ff5f21ca",
   "metadata": {},
   "source": [
    "#### str.istitle()"
   ]
  },
  {
   "cell_type": "code",
   "execution_count": 97,
   "id": "c317a157",
   "metadata": {},
   "outputs": [
    {
     "data": {
      "text/plain": [
       "False"
      ]
     },
     "execution_count": 97,
     "metadata": {},
     "output_type": "execute_result"
    }
   ],
   "source": [
    "'naji'.istitle()"
   ]
  },
  {
   "cell_type": "markdown",
   "id": "ae15f910",
   "metadata": {},
   "source": [
    "### str.isupper()"
   ]
  },
  {
   "cell_type": "markdown",
   "id": "39ea583c",
   "metadata": {},
   "source": [
    "#### str.join(iterable)\n",
    "#### Return a string which is the concatenation of the strings in iterable "
   ]
  },
  {
   "cell_type": "code",
   "execution_count": 107,
   "id": "a07800c9",
   "metadata": {},
   "outputs": [],
   "source": [
    "names = [\"Naji\", \"Aboo\"]"
   ]
  },
  {
   "cell_type": "code",
   "execution_count": 109,
   "id": "f2858c00",
   "metadata": {},
   "outputs": [
    {
     "data": {
      "text/plain": [
       "'Naji#Aboo'"
      ]
     },
     "execution_count": 109,
     "metadata": {},
     "output_type": "execute_result"
    }
   ],
   "source": [
    "'#'.join(names)"
   ]
  },
  {
   "cell_type": "markdown",
   "id": "903c44ed",
   "metadata": {},
   "source": [
    "#### str.ljust(width[, fillchar])"
   ]
  },
  {
   "cell_type": "code",
   "execution_count": 112,
   "id": "450fdcc4",
   "metadata": {},
   "outputs": [
    {
     "data": {
      "text/plain": [
       "'naji$$$$$$'"
      ]
     },
     "execution_count": 112,
     "metadata": {},
     "output_type": "execute_result"
    }
   ],
   "source": [
    "'naji'.ljust(10,'$')"
   ]
  },
  {
   "cell_type": "code",
   "execution_count": 113,
   "id": "eb48336b",
   "metadata": {},
   "outputs": [],
   "source": [
    "#### str.lstrip([chars])"
   ]
  },
  {
   "cell_type": "code",
   "execution_count": 114,
   "id": "0b08e6cc",
   "metadata": {},
   "outputs": [],
   "source": [
    "#### Return a copy of the string with leading characters removed. The chars argument is a string specifying the set of characters to be removed. If omitted or None, the chars argument defaults to removing whitespace. The chars argument is not a prefix; rather, all combinations of its values are stripped:"
   ]
  },
  {
   "cell_type": "code",
   "execution_count": 115,
   "id": "9d358702",
   "metadata": {},
   "outputs": [
    {
     "data": {
      "text/plain": [
       "'spacious   '"
      ]
     },
     "execution_count": 115,
     "metadata": {},
     "output_type": "execute_result"
    }
   ],
   "source": [
    "'   spacious   '.lstrip()"
   ]
  },
  {
   "cell_type": "code",
   "execution_count": 120,
   "id": "640a2067",
   "metadata": {},
   "outputs": [
    {
     "data": {
      "text/plain": [
       "'xample.com'"
      ]
     },
     "execution_count": 120,
     "metadata": {},
     "output_type": "execute_result"
    }
   ],
   "source": [
    "'www.example.com'.lstrip('we.')"
   ]
  },
  {
   "cell_type": "code",
   "execution_count": 121,
   "id": "522d6cb8",
   "metadata": {},
   "outputs": [
    {
     "data": {
      "text/plain": [
       "'ee!'"
      ]
     },
     "execution_count": 121,
     "metadata": {},
     "output_type": "execute_result"
    }
   ],
   "source": [
    "'Arthur: three!'.lstrip('Arthur: ')"
   ]
  },
  {
   "cell_type": "code",
   "execution_count": 122,
   "id": "aa3fe999",
   "metadata": {},
   "outputs": [
    {
     "data": {
      "text/plain": [
       "'three!'"
      ]
     },
     "execution_count": 122,
     "metadata": {},
     "output_type": "execute_result"
    }
   ],
   "source": [
    "'Arthur: three!'.removeprefix('Arthur: ')"
   ]
  },
  {
   "cell_type": "code",
   "execution_count": 123,
   "id": "42e9984f",
   "metadata": {},
   "outputs": [],
   "source": [
    "### str.removesuffix(suffix, /)"
   ]
  },
  {
   "cell_type": "code",
   "execution_count": 124,
   "id": "aa4a5bfc",
   "metadata": {},
   "outputs": [
    {
     "data": {
      "text/plain": [
       "'Misc'"
      ]
     },
     "execution_count": 124,
     "metadata": {},
     "output_type": "execute_result"
    }
   ],
   "source": [
    "'MiscTests'.removesuffix('Tests')"
   ]
  },
  {
   "cell_type": "markdown",
   "id": "52b85e5f",
   "metadata": {},
   "source": [
    "### str.replace(old, new[, count])"
   ]
  },
  {
   "cell_type": "markdown",
   "id": "0ef584d3",
   "metadata": {},
   "source": [
    "#### Return a copy of the string with all occurrences of substring old replaced by new. If the optional argument count is given, only the first count occurrences are replaced."
   ]
  },
  {
   "cell_type": "code",
   "execution_count": 131,
   "id": "cfc75b23",
   "metadata": {},
   "outputs": [
    {
     "data": {
      "text/plain": [
       "'Python Python'"
      ]
     },
     "execution_count": 131,
     "metadata": {},
     "output_type": "execute_result"
    }
   ],
   "source": [
    "\"python python\".replace('python','Python',2)"
   ]
  },
  {
   "cell_type": "markdown",
   "id": "7ffc5f12",
   "metadata": {},
   "source": [
    "### str.rfind(sub[, start[, end]])"
   ]
  },
  {
   "cell_type": "markdown",
   "id": "e7ce266e",
   "metadata": {},
   "source": [
    "#### Return the highest index in the string where substring sub is found, such that sub is contained within s[start:end]. Optional arguments start and end are interpreted as in slice notation. Return -1 on failure."
   ]
  },
  {
   "cell_type": "code",
   "execution_count": 135,
   "id": "baf588d8",
   "metadata": {},
   "outputs": [
    {
     "data": {
      "text/plain": [
       "'This is a python tutorial. Python is a dynamic language'"
      ]
     },
     "execution_count": 135,
     "metadata": {},
     "output_type": "execute_result"
    }
   ],
   "source": [
    "text"
   ]
  },
  {
   "cell_type": "code",
   "execution_count": 136,
   "id": "95d0db0f",
   "metadata": {},
   "outputs": [
    {
     "data": {
      "text/plain": [
       "27"
      ]
     },
     "execution_count": 136,
     "metadata": {},
     "output_type": "execute_result"
    }
   ],
   "source": [
    "text.rfind('Python')"
   ]
  },
  {
   "cell_type": "code",
   "execution_count": 137,
   "id": "62ada48c",
   "metadata": {},
   "outputs": [
    {
     "data": {
      "text/plain": [
       "34"
      ]
     },
     "execution_count": 137,
     "metadata": {},
     "output_type": "execute_result"
    }
   ],
   "source": [
    "\"python is a programming language. python is very simple\".rfind('python')"
   ]
  },
  {
   "cell_type": "markdown",
   "id": "406bc424",
   "metadata": {},
   "source": [
    "### str.rjust(width[, fillchar])"
   ]
  },
  {
   "cell_type": "code",
   "execution_count": 145,
   "id": "c5929902",
   "metadata": {},
   "outputs": [
    {
     "data": {
      "text/plain": [
       "'      test'"
      ]
     },
     "execution_count": 145,
     "metadata": {},
     "output_type": "execute_result"
    }
   ],
   "source": [
    "\"test\".rjust(10)"
   ]
  },
  {
   "cell_type": "code",
   "execution_count": null,
   "id": "973935cb",
   "metadata": {},
   "outputs": [],
   "source": []
  },
  {
   "cell_type": "markdown",
   "id": "fad231a7",
   "metadata": {},
   "source": [
    "#### str.rsplit(sep=None, maxsplit=- 1)"
   ]
  },
  {
   "cell_type": "code",
   "execution_count": 144,
   "id": "df6b4df3",
   "metadata": {},
   "outputs": [
    {
     "data": {
      "text/plain": [
       "['this is a tes', ' program']"
      ]
     },
     "execution_count": 144,
     "metadata": {},
     "output_type": "execute_result"
    }
   ],
   "source": [
    "\"this is a test program\".rsplit(sep='t', maxsplit=1)"
   ]
  },
  {
   "cell_type": "markdown",
   "id": "3832fa23",
   "metadata": {},
   "source": [
    "#### str.splitlines(keepends=False)"
   ]
  },
  {
   "cell_type": "markdown",
   "id": "c1fea970",
   "metadata": {},
   "source": [
    "#### Return a list of the lines in the string, breaking at line boundaries. Line breaks are not included in the resulting list unless keepends is given and true."
   ]
  },
  {
   "cell_type": "code",
   "execution_count": 146,
   "id": "47f69a3e",
   "metadata": {},
   "outputs": [
    {
     "data": {
      "text/plain": [
       "['ab c', '', 'de fg', 'kl']"
      ]
     },
     "execution_count": 146,
     "metadata": {},
     "output_type": "execute_result"
    }
   ],
   "source": [
    "'ab c\\n\\nde fg\\rkl\\r\\n'.splitlines()"
   ]
  },
  {
   "cell_type": "code",
   "execution_count": 147,
   "id": "9d03f166",
   "metadata": {},
   "outputs": [
    {
     "data": {
      "text/plain": [
       "['ab c\\n', '\\n', 'de fg\\r', 'kl\\r\\n']"
      ]
     },
     "execution_count": 147,
     "metadata": {},
     "output_type": "execute_result"
    }
   ],
   "source": [
    "'ab c\\n\\nde fg\\rkl\\r\\n'.splitlines(keepends=True)"
   ]
  },
  {
   "cell_type": "markdown",
   "id": "420f07f6",
   "metadata": {},
   "source": [
    "#### str.startswith(prefix[, start[, end]])"
   ]
  },
  {
   "cell_type": "code",
   "execution_count": 150,
   "id": "463eeab9",
   "metadata": {},
   "outputs": [
    {
     "data": {
      "text/plain": [
       "False"
      ]
     },
     "execution_count": 150,
     "metadata": {},
     "output_type": "execute_result"
    }
   ],
   "source": [
    "\"python\".startswith(\"py\", 3, 10)"
   ]
  },
  {
   "cell_type": "markdown",
   "id": "083f6c0e",
   "metadata": {},
   "source": [
    "#### str.strip([chars])"
   ]
  },
  {
   "cell_type": "code",
   "execution_count": 152,
   "id": "57159e09",
   "metadata": {},
   "outputs": [
    {
     "data": {
      "text/plain": [
       "'spacious'"
      ]
     },
     "execution_count": 152,
     "metadata": {},
     "output_type": "execute_result"
    }
   ],
   "source": [
    "'   spacious   '.strip()"
   ]
  },
  {
   "cell_type": "code",
   "execution_count": 153,
   "id": "d3410ceb",
   "metadata": {},
   "outputs": [
    {
     "data": {
      "text/plain": [
       "'example'"
      ]
     },
     "execution_count": 153,
     "metadata": {},
     "output_type": "execute_result"
    }
   ],
   "source": [
    "'www.example.com'.strip('cmowz.')"
   ]
  },
  {
   "cell_type": "markdown",
   "id": "84a677ca",
   "metadata": {},
   "source": [
    "#### str.swapcase()"
   ]
  },
  {
   "cell_type": "code",
   "execution_count": 155,
   "id": "90863c67",
   "metadata": {},
   "outputs": [
    {
     "data": {
      "text/plain": [
       "'tEST'"
      ]
     },
     "execution_count": 155,
     "metadata": {},
     "output_type": "execute_result"
    }
   ],
   "source": [
    "\"Test\".swapcase()"
   ]
  },
  {
   "cell_type": "markdown",
   "id": "36fa8932",
   "metadata": {},
   "source": [
    "#### str.title()"
   ]
  },
  {
   "cell_type": "code",
   "execution_count": 157,
   "id": "b3bb339d",
   "metadata": {},
   "outputs": [
    {
     "data": {
      "text/plain": [
       "'Hello World'"
      ]
     },
     "execution_count": 157,
     "metadata": {},
     "output_type": "execute_result"
    }
   ],
   "source": [
    "'Hello world'.title()"
   ]
  },
  {
   "cell_type": "code",
   "execution_count": null,
   "id": "6061918c",
   "metadata": {},
   "outputs": [],
   "source": []
  },
  {
   "cell_type": "code",
   "execution_count": null,
   "id": "6dcca7d9",
   "metadata": {},
   "outputs": [],
   "source": []
  },
  {
   "cell_type": "code",
   "execution_count": null,
   "id": "907fda1f",
   "metadata": {},
   "outputs": [],
   "source": []
  }
 ],
 "metadata": {
  "kernelspec": {
   "display_name": "Python 3 (ipykernel)",
   "language": "python",
   "name": "python3"
  },
  "language_info": {
   "codemirror_mode": {
    "name": "ipython",
    "version": 3
   },
   "file_extension": ".py",
   "mimetype": "text/x-python",
   "name": "python",
   "nbconvert_exporter": "python",
   "pygments_lexer": "ipython3",
   "version": "3.9.7"
  }
 },
 "nbformat": 4,
 "nbformat_minor": 5
}
