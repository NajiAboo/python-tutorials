{
  "nbformat": 4,
  "nbformat_minor": 0,
  "metadata": {
    "colab": {
      "provenance": []
    },
    "kernelspec": {
      "name": "python3",
      "display_name": "Python 3"
    },
    "language_info": {
      "name": "python"
    }
  },
  "cells": [
    {
      "cell_type": "code",
      "execution_count": null,
      "metadata": {
        "colab": {
          "base_uri": "https://localhost:8080/"
        },
        "id": "XmU0PQIZa7og",
        "outputId": "3acac9f1-4429-4eef-da62-8d459b50eb6b"
      },
      "outputs": [
        {
          "output_type": "stream",
          "name": "stdout",
          "text": [
            "test\n"
          ]
        }
      ],
      "source": [
        "print(\"test\")"
      ]
    },
    {
      "cell_type": "code",
      "source": [
        "x = 0"
      ],
      "metadata": {
        "id": "zywA4P-GbCye"
      },
      "execution_count": null,
      "outputs": []
    },
    {
      "cell_type": "code",
      "source": [
        "5 < 5"
      ],
      "metadata": {
        "colab": {
          "base_uri": "https://localhost:8080/"
        },
        "id": "HRki4Cv-c5bt",
        "outputId": "f97954f3-3db4-4ecc-d696-7414965c033c"
      },
      "execution_count": null,
      "outputs": [
        {
          "output_type": "execute_result",
          "data": {
            "text/plain": [
              "False"
            ]
          },
          "metadata": {},
          "execution_count": 9
        }
      ]
    },
    {
      "cell_type": "code",
      "source": [
        "while x < 5:\n",
        "  print(f\"The value of x is {x}\")\n",
        "  x = x + 1\n",
        "else:\n",
        "  print(\"Execution is complete\")"
      ],
      "metadata": {
        "colab": {
          "base_uri": "https://localhost:8080/"
        },
        "id": "YS--4iKFcCsd",
        "outputId": "4479424a-f1cc-4f34-c2a6-6cd3358d2f95"
      },
      "execution_count": null,
      "outputs": [
        {
          "output_type": "stream",
          "name": "stdout",
          "text": [
            "The value of x is 0\n",
            "The value of x is 1\n",
            "The value of x is 2\n",
            "The value of x is 3\n",
            "The value of x is 4\n",
            "Execution is complete\n"
          ]
        }
      ]
    },
    {
      "cell_type": "code",
      "source": [
        "x = 0"
      ],
      "metadata": {
        "id": "3TLBGPkFdKue"
      },
      "execution_count": null,
      "outputs": []
    },
    {
      "cell_type": "code",
      "source": [
        "while x < 5:\n",
        "  print(f\"The value of x is {x}\")\n",
        "  x = x + 1\n",
        "  if x == 2:\n",
        "    break\n",
        "else:\n",
        "  print(\"Execution is complete\")"
      ],
      "metadata": {
        "colab": {
          "base_uri": "https://localhost:8080/"
        },
        "id": "iBIQ1RAIc_9w",
        "outputId": "231ae5dc-12f2-4b6f-d4c7-d0b4a8180bfa"
      },
      "execution_count": null,
      "outputs": [
        {
          "output_type": "stream",
          "name": "stdout",
          "text": [
            "The value of x is 0\n",
            "The value of x is 1\n"
          ]
        }
      ]
    },
    {
      "cell_type": "code",
      "source": [
        "x = 0"
      ],
      "metadata": {
        "id": "1e-hCG3edWGe"
      },
      "execution_count": null,
      "outputs": []
    },
    {
      "cell_type": "code",
      "source": [
        "while x < 5:\n",
        "  x = x + 1\n",
        "  if x == 2:\n",
        "    continue\n",
        "  print(f\"The value of x is {x}\")\n",
        "else:\n",
        "  print(\"Execution is complete\")"
      ],
      "metadata": {
        "colab": {
          "base_uri": "https://localhost:8080/"
        },
        "id": "gfN1_9R8dD7p",
        "outputId": "03f3a012-5a8c-4bb4-aff8-5cb214091fd9"
      },
      "execution_count": null,
      "outputs": [
        {
          "output_type": "stream",
          "name": "stdout",
          "text": [
            "The value of x is 1\n",
            "The value of x is 3\n",
            "The value of x is 4\n",
            "The value of x is 5\n",
            "Execution is complete\n"
          ]
        }
      ]
    },
    {
      "cell_type": "code",
      "source": [],
      "metadata": {
        "id": "f_QgEUpadD-J"
      },
      "execution_count": null,
      "outputs": []
    }
  ]
}