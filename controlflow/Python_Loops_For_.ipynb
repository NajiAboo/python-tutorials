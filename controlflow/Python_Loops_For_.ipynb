{
  "nbformat": 4,
  "nbformat_minor": 0,
  "metadata": {
    "colab": {
      "provenance": []
    },
    "kernelspec": {
      "name": "python3",
      "display_name": "Python 3"
    },
    "language_info": {
      "name": "python"
    }
  },
  "cells": [
    {
      "cell_type": "code",
      "execution_count": null,
      "metadata": {
        "id": "8R27283YoGuq"
      },
      "outputs": [],
      "source": [
        "my_list = [\"apple\",\"banana\",\"cherry\"]\n",
        "my_tuple = (\"apple\",\"banana\",\"cherry\")\n",
        "my_dict = {\"naji\":\"active\",\"rob\":\"inactive\",\"johb\": \"\"}\n",
        "my_string = \"Python\"\n",
        "my_nested_list = [[\"apple\", \"banana\", \"cherry\"], [1,2,3]]"
      ]
    },
    {
      "cell_type": "code",
      "source": [],
      "metadata": {
        "id": "00eoLBIzMYFA"
      },
      "execution_count": null,
      "outputs": []
    },
    {
      "cell_type": "markdown",
      "source": [
        "## Sequence Example"
      ],
      "metadata": {
        "id": "uxkvYRm2ptfK"
      }
    },
    {
      "cell_type": "code",
      "source": [
        "my_list[0]"
      ],
      "metadata": {
        "id": "0SnRVnP9I9Vn",
        "colab": {
          "base_uri": "https://localhost:8080/",
          "height": 35
        },
        "outputId": "1eef80d9-697f-402d-d65a-e7084cbdb47d"
      },
      "execution_count": null,
      "outputs": [
        {
          "output_type": "execute_result",
          "data": {
            "text/plain": [
              "'apple'"
            ],
            "application/vnd.google.colaboratory.intrinsic+json": {
              "type": "string"
            }
          },
          "metadata": {},
          "execution_count": 2
        }
      ]
    },
    {
      "cell_type": "code",
      "source": [
        "my_tuple[0]"
      ],
      "metadata": {
        "colab": {
          "base_uri": "https://localhost:8080/",
          "height": 35
        },
        "id": "5mPAe8_jMRzx",
        "outputId": "44e63e93-0d6a-4b8e-a98c-ba77407bbcab"
      },
      "execution_count": null,
      "outputs": [
        {
          "output_type": "execute_result",
          "data": {
            "text/plain": [
              "'apple'"
            ],
            "application/vnd.google.colaboratory.intrinsic+json": {
              "type": "string"
            }
          },
          "metadata": {},
          "execution_count": 4
        }
      ]
    },
    {
      "cell_type": "code",
      "source": [
        "list(my_dict.items())[0]"
      ],
      "metadata": {
        "colab": {
          "base_uri": "https://localhost:8080/"
        },
        "id": "4JOU2KGFMY1Y",
        "outputId": "248de5f5-53c4-4974-83ad-2161cb9a8091"
      },
      "execution_count": null,
      "outputs": [
        {
          "output_type": "execute_result",
          "data": {
            "text/plain": [
              "('naji', 'active')"
            ]
          },
          "metadata": {},
          "execution_count": 6
        }
      ]
    },
    {
      "cell_type": "markdown",
      "source": [
        "## For Loop - (list, tuple, dict , string )"
      ],
      "metadata": {
        "id": "Vg5wzwpsq2Xs"
      }
    },
    {
      "cell_type": "code",
      "source": [
        "for f in my_list:\n",
        "  print(f)"
      ],
      "metadata": {
        "colab": {
          "base_uri": "https://localhost:8080/"
        },
        "id": "SAa_SgKLMjVz",
        "outputId": "449e95a2-2d55-4ddd-b17e-777094867c07"
      },
      "execution_count": null,
      "outputs": [
        {
          "output_type": "stream",
          "name": "stdout",
          "text": [
            "apple\n",
            "banana\n",
            "cherry\n"
          ]
        }
      ]
    },
    {
      "cell_type": "code",
      "source": [
        "for f in my_tuple:\n",
        "  print(f)"
      ],
      "metadata": {
        "colab": {
          "base_uri": "https://localhost:8080/"
        },
        "id": "Mv62Qe5sM03s",
        "outputId": "360d42a1-8a48-4963-d57f-036980a8b4cd"
      },
      "execution_count": null,
      "outputs": [
        {
          "output_type": "stream",
          "name": "stdout",
          "text": [
            "apple\n",
            "banana\n",
            "cherry\n"
          ]
        }
      ]
    },
    {
      "cell_type": "code",
      "source": [
        "for s in my_string:\n",
        "  print(s)"
      ],
      "metadata": {
        "colab": {
          "base_uri": "https://localhost:8080/"
        },
        "id": "pRzUQ0AMM05_",
        "outputId": "5e3cf405-ad72-49b9-a4cb-f0fff585cf0f"
      },
      "execution_count": null,
      "outputs": [
        {
          "output_type": "stream",
          "name": "stdout",
          "text": [
            "P\n",
            "y\n",
            "t\n",
            "h\n",
            "o\n",
            "n\n"
          ]
        }
      ]
    },
    {
      "cell_type": "code",
      "source": [
        "for key,value in my_dict.items():\n",
        "  print(f\"key: {key}, value: {value}\")"
      ],
      "metadata": {
        "colab": {
          "base_uri": "https://localhost:8080/"
        },
        "id": "jvqkYfZXM9gh",
        "outputId": "c01f2c1b-25a8-48a6-89a8-14bac72e8232"
      },
      "execution_count": null,
      "outputs": [
        {
          "output_type": "stream",
          "name": "stdout",
          "text": [
            "key: naji, value: active\n",
            "key: rob, value: inactive\n",
            "key: johb, value: \n"
          ]
        }
      ]
    },
    {
      "cell_type": "code",
      "source": [],
      "metadata": {
        "id": "0pBOOmkNM9i1"
      },
      "execution_count": null,
      "outputs": []
    },
    {
      "cell_type": "markdown",
      "source": [
        "## For Loop - range"
      ],
      "metadata": {
        "id": "h6rnU5zCq6k8"
      }
    },
    {
      "cell_type": "code",
      "source": [
        "for r in range(0, 10):\n",
        "  print(r)"
      ],
      "metadata": {
        "colab": {
          "base_uri": "https://localhost:8080/"
        },
        "id": "hXUYwD2CNM6h",
        "outputId": "6b974dda-e8e0-46c1-8e0c-3bc73bac2df4"
      },
      "execution_count": null,
      "outputs": [
        {
          "output_type": "stream",
          "name": "stdout",
          "text": [
            "0\n",
            "1\n",
            "2\n",
            "3\n",
            "4\n",
            "5\n",
            "6\n",
            "7\n",
            "8\n",
            "9\n"
          ]
        }
      ]
    },
    {
      "cell_type": "code",
      "source": [
        "for r in range(0, 10, 3):\n",
        "  print(r)"
      ],
      "metadata": {
        "colab": {
          "base_uri": "https://localhost:8080/"
        },
        "id": "Ts26Nlv5NXRs",
        "outputId": "0b895382-066c-4058-f7ac-c00afab492a2"
      },
      "execution_count": null,
      "outputs": [
        {
          "output_type": "stream",
          "name": "stdout",
          "text": [
            "0\n",
            "3\n",
            "6\n",
            "9\n"
          ]
        }
      ]
    },
    {
      "cell_type": "markdown",
      "source": [
        "## For Loop - break"
      ],
      "metadata": {
        "id": "zXokmVW1sWG-"
      }
    },
    {
      "cell_type": "code",
      "source": [
        "for i in range(0,10):\n",
        "  if i == 5:\n",
        "    break\n",
        "  print(i)"
      ],
      "metadata": {
        "colab": {
          "base_uri": "https://localhost:8080/"
        },
        "id": "orEFm27ZNnXc",
        "outputId": "7f729856-49b9-4bd9-c557-ec00c0c25cd3"
      },
      "execution_count": null,
      "outputs": [
        {
          "output_type": "stream",
          "name": "stdout",
          "text": [
            "0\n",
            "1\n",
            "2\n",
            "3\n",
            "4\n"
          ]
        }
      ]
    },
    {
      "cell_type": "code",
      "source": [],
      "metadata": {
        "id": "BkRddvGKNni7"
      },
      "execution_count": null,
      "outputs": []
    },
    {
      "cell_type": "markdown",
      "source": [
        "## For Loop - continue"
      ],
      "metadata": {
        "id": "QjZeI8nmsbKO"
      }
    },
    {
      "cell_type": "code",
      "source": [
        "for i in range(1, 10):\n",
        "  if i%2 == 0:\n",
        "    continue\n",
        "  print(i)"
      ],
      "metadata": {
        "colab": {
          "base_uri": "https://localhost:8080/"
        },
        "id": "XUaFMLotN9rh",
        "outputId": "df23bc77-fc60-4551-95b6-698461e46d4f"
      },
      "execution_count": null,
      "outputs": [
        {
          "output_type": "stream",
          "name": "stdout",
          "text": [
            "1\n",
            "3\n",
            "5\n",
            "7\n",
            "9\n"
          ]
        }
      ]
    },
    {
      "cell_type": "markdown",
      "source": [
        "## For Loop - Else"
      ],
      "metadata": {
        "id": "4QdZd9ftrrgr"
      }
    },
    {
      "cell_type": "code",
      "source": [
        "for i in range(1, 5):\n",
        "  print(i)\n",
        "else:\n",
        "  print(\"completed the loop\")"
      ],
      "metadata": {
        "colab": {
          "base_uri": "https://localhost:8080/"
        },
        "id": "vuP9wocUOWtv",
        "outputId": "cdc2170f-c3ca-449a-fdb5-a3a44450c700"
      },
      "execution_count": null,
      "outputs": [
        {
          "output_type": "stream",
          "name": "stdout",
          "text": [
            "1\n",
            "2\n",
            "3\n",
            "4\n",
            "completed the loop\n"
          ]
        }
      ]
    },
    {
      "cell_type": "code",
      "source": [
        "for i in range(1, 5):\n",
        "  if i == 2:\n",
        "    break\n",
        "  print(i)\n",
        "else:\n",
        "  print(\"completed the loop\")"
      ],
      "metadata": {
        "colab": {
          "base_uri": "https://localhost:8080/"
        },
        "id": "xseKdBRlOryT",
        "outputId": "f50f5f13-7fc3-46cf-a22d-28788a3c47d9"
      },
      "execution_count": null,
      "outputs": [
        {
          "output_type": "stream",
          "name": "stdout",
          "text": [
            "1\n"
          ]
        }
      ]
    },
    {
      "cell_type": "markdown",
      "source": [],
      "metadata": {
        "id": "9ITBUcnSw6Sy"
      }
    },
    {
      "cell_type": "markdown",
      "source": [
        "## For Loop - Enumerate"
      ],
      "metadata": {
        "id": "lLf5s3R0tQc3"
      }
    },
    {
      "cell_type": "code",
      "source": [
        "my_list"
      ],
      "metadata": {
        "colab": {
          "base_uri": "https://localhost:8080/"
        },
        "id": "5jdOHfH5O1tO",
        "outputId": "d66138d1-d3c2-4f52-9b9c-9bf79fea0d74"
      },
      "execution_count": null,
      "outputs": [
        {
          "output_type": "execute_result",
          "data": {
            "text/plain": [
              "['apple', 'banana', 'cherry']"
            ]
          },
          "metadata": {},
          "execution_count": 23
        }
      ]
    },
    {
      "cell_type": "code",
      "source": [
        "for index, fruit in enumerate(my_list):\n",
        "  print(f\"index: {index}, fruit : {fruit}\")"
      ],
      "metadata": {
        "colab": {
          "base_uri": "https://localhost:8080/"
        },
        "id": "dOc8otO2O2Ad",
        "outputId": "35f650b5-6d56-43a2-cc97-f155a5f53dea"
      },
      "execution_count": null,
      "outputs": [
        {
          "output_type": "stream",
          "name": "stdout",
          "text": [
            "index: 0, fruit : apple\n",
            "index: 1, fruit : banana\n",
            "index: 2, fruit : cherry\n"
          ]
        }
      ]
    },
    {
      "cell_type": "markdown",
      "source": [
        "## For Loop - Pass"
      ],
      "metadata": {
        "id": "3AYUUE1lr1cV"
      }
    },
    {
      "cell_type": "code",
      "source": [
        "for i in range(1, 10):\n",
        "  pass"
      ],
      "metadata": {
        "id": "g79RRQ-hPYdp"
      },
      "execution_count": null,
      "outputs": []
    },
    {
      "cell_type": "markdown",
      "source": [],
      "metadata": {
        "id": "VmZL0FFppySk"
      }
    },
    {
      "cell_type": "markdown",
      "source": [
        "## For Nested Loop"
      ],
      "metadata": {
        "id": "O0lWzGIJw8u2"
      }
    },
    {
      "cell_type": "code",
      "source": [
        "my_nested_list"
      ],
      "metadata": {
        "id": "TbZS9i7UHfkO",
        "colab": {
          "base_uri": "https://localhost:8080/"
        },
        "outputId": "b9a9f333-6e40-4880-a512-6984b6a59ee1"
      },
      "execution_count": null,
      "outputs": [
        {
          "output_type": "execute_result",
          "data": {
            "text/plain": [
              "[['apple', 'banana', 'cherry'], [1, 2, 3]]"
            ]
          },
          "metadata": {},
          "execution_count": 28
        }
      ]
    },
    {
      "cell_type": "code",
      "source": [
        "for i in my_nested_list:\n",
        "  print(f\"i is {i}\")\n",
        "  for j in i:\n",
        "    print(j)"
      ],
      "metadata": {
        "colab": {
          "base_uri": "https://localhost:8080/"
        },
        "id": "_k_n_YZiPj2W",
        "outputId": "f96a7a5d-fd40-4f4f-aeda-c335120e5ec9"
      },
      "execution_count": null,
      "outputs": [
        {
          "output_type": "stream",
          "name": "stdout",
          "text": [
            "i is ['apple', 'banana', 'cherry']\n",
            "apple\n",
            "banana\n",
            "cherry\n",
            "i is [1, 2, 3]\n",
            "1\n",
            "2\n",
            "3\n"
          ]
        }
      ]
    },
    {
      "cell_type": "code",
      "source": [],
      "metadata": {
        "id": "TO-kRVVvPupr"
      },
      "execution_count": null,
      "outputs": []
    }
  ]
}